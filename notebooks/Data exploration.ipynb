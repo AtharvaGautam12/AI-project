{
 "nbformat": 4,
 "nbformat_minor": 0,
 "metadata": {
  "kernelspec": {
   "name": "data_science",
   "language": "python",
   "display_name": "data_science"
  },
  "language_info": {
   "codemirror_mode": {
    "name": "ipython",
    "version": 2
   },
   "file_extension": ".py",
   "mimetype": "text/x-python",
   "name": "python",
   "nbconvert_exporter": "python",
   "pygments_lexer": "ipython2",
   "version": "2.7.6"
  },
  "colab": {
   "name": "Data exploration.ipynb",
   "provenance": []
  }
 },
 "cells": [
  {
   "cell_type": "markdown",
   "metadata": {
    "collapsed": true,
    "pycharm": {
     "name": "#%% md\n"
    },
    "id": "S0Ij9bjA6OWj"
   },
   "source": [
    "<a href=\"https://colab.research.google.com/github/MatteoBettini/Stock-Market-Prediction-2020/blob/main/notebooks/Data%20exploration.ipynb\" target=\"_parent\"><img src=\"https://colab.research.google.com/assets/colab-badge.svg\" alt=\"Open In Colab\"/></a>\n"
   ]
  },
  {
   "cell_type": "code",
   "metadata": {
    "id": "6CWouFAF6uni"
   },
   "source": [
    "import pandas as pd\n",
    "import numpy as np"
   ],
   "execution_count": 1,
   "outputs": []
  },
  {
   "cell_type": "code",
   "metadata": {
    "id": "34TMKEab6rYy"
   },
   "source": [
    "def series_to_supervised(data, n_in, dropnan=False):\n",
    "    \"\"\"\n",
    "    Frame a time series as a supervised learning dataset.\n",
    "    Arguments:\n",
    "        data: Sequence of observations as a list or NumPy array.\n",
    "        n_in: Number of lag observations as input (X).\n",
    "        dropnan: Boolean whether or not to drop rows with NaN values.\n",
    "    Returns:\n",
    "        Pandas DataFrame of series framed for supervised learning.\n",
    "    \"\"\"\n",
    "    n_vars = 1 if type(data) is list else data.shape[1]\n",
    "    df = pd.DataFrame(data)\n",
    "    cols, names = list(), list()\n",
    "    # input sequence (t-n, ... t-1)\n",
    "    for i in range(n_in, 0, -1):\n",
    "        cols.append(df.shift(i))\n",
    "        names += [('var%d(t-%d)' % (j+1, i)) for j in range(n_vars)]\n",
    "    # forecast sequence (t)\n",
    "    cols.append(df.iloc[:][0] - df.shift(1).iloc[:][0])\n",
    "\n",
    "    names += ['target']\n",
    "  \n",
    "    # put it all together\n",
    "    agg = pd.concat(cols, axis=1)\n",
    "    agg.columns = names\n",
    "    # drop rows with NaN values\n",
    "    if dropnan:\n",
    "        agg.dropna(inplace=True)\n",
    "    return agg"
   ],
   "execution_count": 7,
   "outputs": []
  },
  {
   "cell_type": "code",
   "metadata": {
    "id": "-7bCf4hr9dEB"
   },
   "source": [
    "dataset_url = 'https://raw.githubusercontent.com/MatteoBettini/Stock-Market-Prediction-2020/main/stock_markets_datasets/Processed_NASDAQ.csv?token=ANHXQQK4VPBE6ABSBCHTF5K74UP3W'\n",
    "nasdaq_df = pd.read_csv(dataset_url)\n",
    "# Dataset is now stored in a Pandas Dataframe\n",
    "nasdaq_df = nasdaq_df.drop(columns=['Date','Name'])\n",
    "nasdaq_df.info()"
   ],
   "execution_count": 9,
   "outputs": [
    {
     "name": "stdout",
     "output_type": "stream",
     "text": [
      "<class 'pandas.core.frame.DataFrame'>\n",
      "RangeIndex: 1984 entries, 0 to 1983\n",
      "Data columns (total 82 columns):\n",
      " #   Column          Non-Null Count  Dtype  \n",
      "---  ------          --------------  -----  \n",
      " 0   Close           1984 non-null   float64\n",
      " 1   Volume          1983 non-null   float64\n",
      " 2   mom             1983 non-null   float64\n",
      " 3   mom1            1982 non-null   float64\n",
      " 4   mom2            1981 non-null   float64\n",
      " 5   mom3            1980 non-null   float64\n",
      " 6   ROC_5           1979 non-null   float64\n",
      " 7   ROC_10          1974 non-null   float64\n",
      " 8   ROC_15          1969 non-null   float64\n",
      " 9   ROC_20          1964 non-null   float64\n",
      " 10  EMA_10          1975 non-null   float64\n",
      " 11  EMA_20          1965 non-null   float64\n",
      " 12  EMA_50          1935 non-null   float64\n",
      " 13  EMA_200         1785 non-null   float64\n",
      " 14  DTB4WK          1984 non-null   float64\n",
      " 15  DTB3            1984 non-null   float64\n",
      " 16  DTB6            1984 non-null   float64\n",
      " 17  DGS5            1984 non-null   float64\n",
      " 18  DGS10           1984 non-null   float64\n",
      " 19  Oil             1983 non-null   float64\n",
      " 20  Gold            1983 non-null   float64\n",
      " 21  DAAA            1984 non-null   float64\n",
      " 22  DBAA            1984 non-null   float64\n",
      " 23  GBP             1506 non-null   float64\n",
      " 24  JPY             1505 non-null   float64\n",
      " 25  CAD             1501 non-null   float64\n",
      " 26  CNY             1505 non-null   float64\n",
      " 27  AAPL            1983 non-null   float64\n",
      " 28  AMZN            1983 non-null   float64\n",
      " 29  GE              1983 non-null   float64\n",
      " 30  JNJ             1983 non-null   float64\n",
      " 31  JPM             1983 non-null   float64\n",
      " 32  MSFT            1983 non-null   float64\n",
      " 33  WFC             1983 non-null   float64\n",
      " 34  XOM             1983 non-null   float64\n",
      " 35  FCHI            1944 non-null   float64\n",
      " 36  FTSE            1913 non-null   float64\n",
      " 37  GDAXI           1917 non-null   float64\n",
      " 38  GSPC            1983 non-null   float64\n",
      " 39  HSI             1814 non-null   float64\n",
      " 40  DJI             1983 non-null   float64\n",
      " 41  SSEC            1746 non-null   float64\n",
      " 42  RUT             1983 non-null   float64\n",
      " 43  NYSE            1983 non-null   float64\n",
      " 44  TE1             1984 non-null   float64\n",
      " 45  TE2             1984 non-null   float64\n",
      " 46  TE3             1984 non-null   float64\n",
      " 47  TE5             1984 non-null   float64\n",
      " 48  TE6             1984 non-null   float64\n",
      " 49  DE1             1984 non-null   float64\n",
      " 50  DE2             1984 non-null   float64\n",
      " 51  DE4             1984 non-null   float64\n",
      " 52  DE5             1984 non-null   float64\n",
      " 53  DE6             1984 non-null   float64\n",
      " 54  CTB3M           1983 non-null   float64\n",
      " 55  CTB6M           1983 non-null   float64\n",
      " 56  CTB1Y           1983 non-null   float64\n",
      " 57  AUD             1984 non-null   float64\n",
      " 58  Brent           1984 non-null   float64\n",
      " 59  CAC-F           1980 non-null   float64\n",
      " 60  copper-F        1984 non-null   float64\n",
      " 61  WIT-oil         1984 non-null   float64\n",
      " 62  DAX-F           1980 non-null   float64\n",
      " 63  DJI-F           1984 non-null   float64\n",
      " 64  EUR             1984 non-null   float64\n",
      " 65  FTSE-F          1978 non-null   float64\n",
      " 66  gold-F          1984 non-null   float64\n",
      " 67  HSI-F           1909 non-null   float64\n",
      " 68  KOSPI-F         1905 non-null   float64\n",
      " 69  NASDAQ-F        1984 non-null   float64\n",
      " 70  GAS-F           1984 non-null   float64\n",
      " 71  Nikkei-F        1984 non-null   float64\n",
      " 72  NZD             1984 non-null   float64\n",
      " 73  silver-F        1984 non-null   float64\n",
      " 74  RUSSELL-F       1984 non-null   float64\n",
      " 75  S&P-F           1984 non-null   float64\n",
      " 76  CHF             1984 non-null   float64\n",
      " 77  Dollar index-F  1984 non-null   float64\n",
      " 78  Dollar index    1984 non-null   float64\n",
      " 79  wheat-F         1982 non-null   float64\n",
      " 80  XAG             1984 non-null   float64\n",
      " 81  XAU             1984 non-null   float64\n",
      "dtypes: float64(82)\n",
      "memory usage: 1.2 MB\n"
     ]
    }
   ]
  },
  {
   "cell_type": "code",
   "metadata": {
    "id": "kwoSNmfh6xn-",
    "outputId": "e9a3e619-a301-45d7-9d7a-829864399049",
    "colab": {
     "base_uri": "https://localhost:8080/"
    }
   },
   "source": [
    "data = series_to_supervised(nasdaq_df.values, 40)\n",
    "\n",
    "data.info()"
   ],
   "execution_count": 8,
   "outputs": [
    {
     "name": "stdout",
     "output_type": "stream",
     "text": [
      "<class 'pandas.core.frame.DataFrame'>\n",
      "RangeIndex: 1984 entries, 0 to 1983\n",
      "Columns: 3281 entries, var1(t-40) to target\n",
      "dtypes: float64(3281)\n",
      "memory usage: 49.7 MB\n"
     ]
    }
   ]
  }
 ]
}